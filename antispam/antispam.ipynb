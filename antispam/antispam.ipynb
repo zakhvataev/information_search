{
  "cells": [
    {
      "cell_type": "code",
      "execution_count": null,
      "metadata": {
        "id": "mwZ7LmG5_MK1"
      },
      "outputs": [],
      "source": [
        "import pandas as pd\n",
        "import numpy as np\n",
        "import base64\n",
        "import re\n",
        "from catboost import CatBoostClassifier\n",
        "from bs4 import BeautifulSoup"
      ]
    },
    {
      "cell_type": "code",
      "execution_count": null,
      "metadata": {
        "id": "4AVShCyZ_MK6"
      },
      "outputs": [],
      "source": [
        "from sklearn import metrics\n",
        "from sklearn.ensemble import GradientBoostingClassifier\n",
        "from sklearn.model_selection import train_test_split,\\\n",
        "                                    cross_validate, KFold,\\\n",
        "                                    cross_val_score\n",
        "from sklearn.preprocessing import StandardScaler\n",
        "from functools import reduce"
      ]
    },
    {
      "cell_type": "markdown",
      "metadata": {
        "id": "VjQ6glCWAExE"
      },
      "source": [
        "https://www.kaggle.com/c/antispam-infopoisk/data"
      ]
    },
    {
      "cell_type": "code",
      "execution_count": null,
      "metadata": {
        "id": "OAYWn6XJ_MK7"
      },
      "outputs": [],
      "source": [
        "train = pd.read_csv('kaggle_train_data_tab_new.csv', sep = '\\t') "
      ]
    },
    {
      "cell_type": "code",
      "execution_count": null,
      "metadata": {
        "id": "9uWA63Vj_MK7"
      },
      "outputs": [],
      "source": [
        "test = pd.read_csv('kaggle_test_data_tab_new.csv', sep = '\\t')"
      ]
    },
    {
      "cell_type": "code",
      "execution_count": null,
      "metadata": {
        "id": "8nUVKcCF_MK8"
      },
      "outputs": [],
      "source": [
        "my_train = pd.DataFrame(train)\n",
        "my_train.drop(columns = {'Id', 'PageBase64'}, inplace = True)"
      ]
    },
    {
      "cell_type": "code",
      "execution_count": null,
      "metadata": {
        "id": "0bP-x93-_MK8"
      },
      "outputs": [],
      "source": [
        "my_test = pd.DataFrame(test)\n",
        "my_test.drop(columns = {'Id', 'Prediction', 'PageBase64'}, inplace = True)"
      ]
    },
    {
      "cell_type": "code",
      "execution_count": null,
      "metadata": {
        "id": "BprTzuof_MK8"
      },
      "outputs": [],
      "source": [
        "my_train = pd.read_csv('final_train.csv')"
      ]
    },
    {
      "cell_type": "code",
      "execution_count": null,
      "metadata": {
        "id": "ZAY3R41Q_MK9"
      },
      "outputs": [],
      "source": [
        "my_test = pd.read_csv('final_test.csv')"
      ]
    },
    {
      "cell_type": "code",
      "execution_count": null,
      "metadata": {
        "id": "bA8VTuMr_MK9"
      },
      "outputs": [],
      "source": [
        "def validation(X_train, train_target, model, params, folds_gen_func, folds_num=5, thresholds=[0.32], **kwargs):\n",
        "    \n",
        "    scaler = StandardScaler()\n",
        "    scaler.fit(X_train) \n",
        "    \n",
        "    main_res = []\n",
        "    for param_set in combinations(params):\n",
        "        \n",
        "        print(param_set)        \n",
        "        exact_model = model(**param_set) \n",
        "        \n",
        "        fold_generator = folds_gen_func(folds_num)\n",
        "        \n",
        "        for th in thresholds:\n",
        "#           th = 0.27\n",
        "            print('th = ', th)\n",
        "            res = []\n",
        "            for train_index, test_index in fold_generator.split(X_train, train_target, **kwargs):\n",
        "\n",
        "                exact_model.fit(scaler.transform(X_train[train_index]), train_target[train_index])\n",
        "\n",
        "                y_pred = [0 if val < th else 1 for val in exact_model.predict_proba(scaler.transform(X_train[test_index]))[:,1]]\n",
        "\n",
        "                score = metrics.f1_score(train_target[test_index],\\\n",
        "                                         y_pred, average = 'weighted')\n",
        "    #               print('threshold = {}, score = {}'.format(th, score))\n",
        "\n",
        "                res.append(score)\n",
        "        #                                       exact_model.predict(scaler.transform(X_train[test_index]))))\n",
        "\n",
        "\n",
        "            mean = sum(res)/len(res)\n",
        "            print(mean)\n",
        "#             print('threshold = {}, score = {}'.format(th, mean))\n",
        "            main_res.append((mean, param_set, th))\n",
        "    \n",
        "    best = main_res[np.argmax([res[0] for res in main_res])]\n",
        "    print('--------max-------')\n",
        "    print(best)\n",
        "    \n",
        "    return best"
      ]
    },
    {
      "cell_type": "code",
      "execution_count": null,
      "metadata": {
        "id": "NRwFArmT_MK9"
      },
      "outputs": [],
      "source": [
        "def combinations(params):\n",
        "    \n",
        "    list_ = []\n",
        "    for value in params.values():\n",
        "        list_.append(value)\n",
        "\n",
        "    tmp = reduce(lambda x, y: list_concat(x, y), list_)\n",
        "\n",
        "    res = []\n",
        "    for elem in tmp:\n",
        "        param_list = flatten(elem)\n",
        "        param_dict = dict(zip(params.keys(), param_list))\n",
        "        res.append(param_dict)\n",
        "        \n",
        "    return res"
      ]
    },
    {
      "cell_type": "code",
      "execution_count": null,
      "metadata": {
        "id": "c_dJvmIE_MK-"
      },
      "outputs": [],
      "source": [
        "def list_concat(list1, list2):\n",
        "    \n",
        "    len1 = len(list1)\n",
        "    len2 = len(list2)\n",
        "    \n",
        "    return [[list1[i], list2[j]] for i in range(len1) for j in range(len2)]"
      ]
    },
    {
      "cell_type": "code",
      "execution_count": null,
      "metadata": {
        "id": "d2n3TkEB_MK-"
      },
      "outputs": [],
      "source": [
        "def flatten(x):\n",
        "    \n",
        "    result = []\n",
        "    for elem in x:\n",
        "        if hasattr(elem, \"__iter__\") and not isinstance(elem, str):\n",
        "            result.extend(flatten(elem))\n",
        "        else:\n",
        "            result.append(elem)\n",
        "            \n",
        "    return result"
      ]
    },
    {
      "cell_type": "code",
      "execution_count": null,
      "metadata": {
        "id": "ZeXBARBo_MK-"
      },
      "outputs": [],
      "source": [
        "def porn(html):\n",
        "    global j\n",
        "    \n",
        "    rus_spam = ['''18+''']\n",
        "    \n",
        "    eng_spam = ['''18+''']\n",
        "    \n",
        "    word_counter = 0\n",
        "    txt = ''\n",
        "    soup = BeautifulSoup(html, 'html')\n",
        "    for i in soup.find_all(['a', 'h1', 'title']):\n",
        "        txt  += i.text + ' '\n",
        "    \n",
        "    for i in rus_spam:\n",
        "        word_counter += len(re.findall(i, txt.lower()))\n",
        "    \n",
        "    for i in eng_spam:\n",
        "        word_counter += len(re.findall(i, txt.lower()))\n",
        "\n",
        "    j += 1\n",
        "    if not j % 100:\n",
        "        print(j, 'loaded')\n",
        "    \n",
        "    return word_counter"
      ]
    },
    {
      "cell_type": "code",
      "execution_count": null,
      "metadata": {
        "id": "UUjKJB___MK_"
      },
      "outputs": [],
      "source": [
        " def url_len(url):\n",
        "        smth = re.search('://[^/]*/', url)\n",
        "        if type(smth) == re.Match:\n",
        "            u_l = len(smth.group()[3:-1])\n",
        "        else:\n",
        "            u_l = 15\n",
        "            \n",
        "        return u_l"
      ]
    },
    {
      "cell_type": "code",
      "execution_count": null,
      "metadata": {
        "id": "IXRaHC7v_MK_"
      },
      "outputs": [],
      "source": [
        "def good_site(url):\n",
        "    \n",
        "    if (url.count('.ru') + url.count('.com') > 0):\n",
        "        return 1\n",
        "    \n",
        "    return 0"
      ]
    },
    {
      "cell_type": "code",
      "execution_count": null,
      "metadata": {
        "id": "_WMkD371_MK_"
      },
      "outputs": [],
      "source": [
        "def url_words(url):\n",
        "    key_words = ['''18+''']\n",
        "    for i in key_words:\n",
        "        if url.lower().count(i):\n",
        "            return 1\n",
        "    return 0"
      ]
    },
    {
      "cell_type": "code",
      "execution_count": null,
      "metadata": {
        "id": "XxL9w7qO_MK_"
      },
      "outputs": [],
      "source": [
        "def len_tags(html, tags):\n",
        "    global j\n",
        "    \n",
        "    len_ = 0\n",
        "    soup = BeautifulSoup(html, 'html')\n",
        "    \n",
        "    for i in soup.find_all(tags):\n",
        "        len_ += len(i.text)\n",
        "    \n",
        "    j += 1\n",
        "    if not j % 100:\n",
        "        print(j, 'loaded')\n",
        "    return len_"
      ]
    },
    {
      "cell_type": "code",
      "execution_count": null,
      "metadata": {
        "id": "7NjbMUaG_MLA"
      },
      "outputs": [],
      "source": [
        "def body_len(html):\n",
        "    global j\n",
        "    \n",
        "    soup = BeautifulSoup(html, 'html')\n",
        "    \n",
        "    j += 1\n",
        "    if not j % 100:\n",
        "        print(j, 'loaded')\n",
        "    \n",
        "    return len(re.findall('\\w+',(soup.get_text())))"
      ]
    },
    {
      "cell_type": "code",
      "execution_count": null,
      "metadata": {
        "id": "aZwNw_uY_MLA"
      },
      "outputs": [],
      "source": [
        "def tag_counter(html, tag):\n",
        "    global j \n",
        "    \n",
        "    soup = BeautifulSoup(html, 'html')\n",
        "        \n",
        "    j += 1\n",
        "    if not j % 100:\n",
        "        print(j, 'loaded')\n",
        "        \n",
        "    return len(soup.find_all(tag))"
      ]
    },
    {
      "cell_type": "code",
      "execution_count": null,
      "metadata": {
        "id": "urgS0sn-_MLA",
        "outputId": "765f0fe2-51b6-4919-d479-7ed8368eca8b"
      },
      "outputs": [
        {
          "name": "stdout",
          "output_type": "stream",
          "text": [
            "CPU times: user 5.73 s, sys: 338 ms, total: 6.06 s\n",
            "Wall time: 6.12 s\n"
          ]
        }
      ],
      "source": [
        "%%time\n",
        "# Переводим из Base64 в raw_html\n",
        "my_train['raw_html'] =\\\n",
        "            train['PageBase64'].apply(lambda x: base64.b64decode(x))\n",
        "my_test['raw_html'] =\\\n",
        "            test['PageBase64'].apply(lambda x: base64.b64decode(x))"
      ]
    },
    {
      "cell_type": "code",
      "execution_count": null,
      "metadata": {
        "id": "Upt-YcO9_MLB"
      },
      "outputs": [],
      "source": [
        "%%time\n",
        "# Количество картинок\n",
        "j = 0\n",
        "my_train['img'] =\\\n",
        "            my_train['raw_html'].apply(lambda x: tag_counter(str(x),'img'))\n",
        "my_test['img'] =\\\n",
        "            my_test['raw_html'].apply(lambda x: tag_counter(str(x),'img'))"
      ]
    },
    {
      "cell_type": "code",
      "execution_count": null,
      "metadata": {
        "id": "-3_vR9Fl_MLB"
      },
      "outputs": [],
      "source": [
        "save_tables()\n",
        "# my_train['url_words']"
      ]
    },
    {
      "cell_type": "code",
      "execution_count": null,
      "metadata": {
        "id": "SnBpTgrV_MLC"
      },
      "outputs": [],
      "source": [
        "%%time\n",
        "# Количество b\n",
        "j = 0\n",
        "my_train['b'] =\\\n",
        "            my_train['raw_html'].apply(lambda x: tag_counter(str(x),'b'))\n",
        "my_test['b'] =\\\n",
        "            my_test['raw_html'].apply(lambda x: tag_counter(str(x),'b'))"
      ]
    },
    {
      "cell_type": "code",
      "execution_count": null,
      "metadata": {
        "id": "yRS53MiB_MLC"
      },
      "outputs": [],
      "source": [
        "%%time\n",
        "# Количество a\n",
        "j = 0\n",
        "my_train['a'] =\\\n",
        "            my_train['raw_html'].apply(lambda x: tag_counter(str(x),'a'))\n",
        "my_test['a'] =\\\n",
        "            my_test['raw_html'].apply(lambda x: tag_counter(str(x),'a'))\n"
      ]
    },
    {
      "cell_type": "code",
      "execution_count": null,
      "metadata": {
        "id": "uN_LkIBR_MLD"
      },
      "outputs": [],
      "source": [
        "%%time\n",
        "# Количество br\n",
        "j = 0\n",
        "my_train['br'] =\\\n",
        "            my_train['raw_html'].apply(lambda x: tag_counter(str(x),'br'))\n",
        "my_test['br'] =\\\n",
        "            my_test['raw_html'].apply(lambda x: tag_counter(str(x),'br'))"
      ]
    },
    {
      "cell_type": "code",
      "execution_count": null,
      "metadata": {
        "id": "buXi8zXX_MLD"
      },
      "outputs": [],
      "source": [
        "%%time\n",
        "# Количество table\n",
        "j = 0\n",
        "my_train['table'] =\\\n",
        "            my_train['raw_html'].apply(lambda x: tag_counter(str(x),'table'))\n",
        "my_test['table'] =\\\n",
        "            my_test['raw_html'].apply(lambda x: tag_counter(str(x),'table'))"
      ]
    },
    {
      "cell_type": "code",
      "execution_count": null,
      "metadata": {
        "id": "NVr6TPfw_MLD"
      },
      "outputs": [],
      "source": [
        "%%time\n",
        "# Количество span\n",
        "j = 0\n",
        "my_train['span'] =\\\n",
        "            my_train['raw_html'].apply(lambda x: tag_counter(str(x),'span'))\n",
        "my_test['span'] =\\\n",
        "            my_test['raw_html'].apply(lambda x: tag_counter(str(x),'span'))"
      ]
    },
    {
      "cell_type": "code",
      "execution_count": null,
      "metadata": {
        "id": "MAinhuz-_MLD"
      },
      "outputs": [],
      "source": [
        "%%time\n",
        "# Количество tr\n",
        "j = 0\n",
        "my_train['tr'] =\\\n",
        "            my_train['raw_html'].apply(lambda x: tag_counter(str(x),'tr'))\n",
        "my_test['tr'] =\\\n",
        "            my_test['raw_html'].apply(lambda x: tag_counter(str(x),'tr'))"
      ]
    },
    {
      "cell_type": "code",
      "execution_count": null,
      "metadata": {
        "id": "pslkP3YK_MLE"
      },
      "outputs": [],
      "source": [
        "%%time\n",
        "# Длина заголовков\n",
        "j = 0\n",
        "my_train['title_len'] =\\\n",
        "            my_train['raw_html'].apply(lambda x: len_tags(x,['title', 'h1']))\n",
        "my_test['title_len'] =\\\n",
        "            my_test['raw_html'].apply(lambda x: len_tags(x,['title', 'h1']))"
      ]
    },
    {
      "cell_type": "code",
      "execution_count": null,
      "metadata": {
        "id": "12aL-W5r_MLE"
      },
      "outputs": [],
      "source": [
        "%%time\n",
        "# Длина текста в ссылках\n",
        "j = 0\n",
        "my_train['a_len'] =\\\n",
        "            my_train['raw_html'].apply(lambda x: len_tags(x,['a']))\n",
        "my_test['a_len'] =\\\n",
        "            my_test['raw_html'].apply(lambda x: len_tags(x,['a']))"
      ]
    },
    {
      "cell_type": "code",
      "execution_count": null,
      "metadata": {
        "id": "KjclpDRm_MLE"
      },
      "outputs": [],
      "source": [
        "%%time\n",
        "# Длина текста\n",
        "j = 0\n",
        "my_train['body_len'] =\\\n",
        "            my_train['raw_html'].apply(lambda x: body_len(x))\n",
        "my_test['body_len'] =\\\n",
        "            my_test['raw_html'].apply(lambda x: body_len(x))"
      ]
    },
    {
      "cell_type": "code",
      "execution_count": null,
      "metadata": {
        "id": "uVk2qp7M_MLG",
        "outputId": "267f199a-07d5-4834-8bd3-20a4b344d0c1"
      },
      "outputs": [
        {
          "name": "stdout",
          "output_type": "stream",
          "text": [
            "CPU times: user 19 ms, sys: 0 ns, total: 19 ms\n",
            "Wall time: 18.6 ms\n"
          ]
        }
      ],
      "source": [
        "%%time\n",
        "#Длина сырого HTML \n",
        "my_train['html_len'] =\\\n",
        "            my_train['raw_html'].apply(lambda x: len(x))\n",
        "my_test['html_len'] =\\\n",
        "            my_test['raw_html'].apply(lambda x: len(x))"
      ]
    },
    {
      "cell_type": "code",
      "execution_count": null,
      "metadata": {
        "id": "skXYeyfy_MLH"
      },
      "outputs": [],
      "source": [
        "#Длина текстовой части URL\n",
        "my_train['url_len'] =\\\n",
        "                my_train['Url'].apply(lambda x: url_len(x))\n",
        "my_test['url_len'] =\\\n",
        "                my_test['Url'].apply(lambda x: url_len(x))"
      ]
    },
    {
      "cell_type": "code",
      "execution_count": null,
      "metadata": {
        "id": "O2lzTnxr_MLH"
      },
      "outputs": [],
      "source": [
        "#Длина сырого URL\n",
        "my_train['raw_url_len'] =\\\n",
        "                my_train['Url'].apply(lambda x: len(x))\n",
        "my_test['raw_url_len'] =\\\n",
        "                my_test['Url'].apply(lambda x: len(x))"
      ]
    },
    {
      "cell_type": "code",
      "execution_count": null,
      "metadata": {
        "id": "xYEhOYRi_MLI"
      },
      "outputs": [],
      "source": [
        "#Первичные признаки спама 18+\n",
        "my_train['good'] =\\\n",
        "                my_train['Url'].apply(lambda x: good_site(x))\n",
        "my_test['good'] =\\\n",
        "                my_test['Url'].apply(lambda x: good_site(x))"
      ]
    },
    {
      "cell_type": "code",
      "execution_count": null,
      "metadata": {
        "id": "LtR497KI_MLI"
      },
      "outputs": [],
      "source": [
        "#Вхождение ключевых слов в url\n",
        "my_train['url_words'] =\\\n",
        "                my_train['Url'].apply(lambda x: url_words(x))\n",
        "my_test['url_words'] =\\\n",
        "                my_test['Url'].apply(lambda x: url_words(x))"
      ]
    },
    {
      "cell_type": "code",
      "execution_count": null,
      "metadata": {
        "id": "y0gkGkni_MLI"
      },
      "outputs": [],
      "source": [
        "%%time\n",
        "# Количество популярных 18+ слов\n",
        "j = 0\n",
        "my_train['porn']=\\\n",
        "            my_train['raw_html'].apply(lambda x: porn(x))\n",
        "my_test['porn']=\\\n",
        "            my_test['raw_html'].apply(lambda x: porn(x))"
      ]
    },
    {
      "cell_type": "code",
      "execution_count": null,
      "metadata": {
        "id": "ONpIMOkM_MLI"
      },
      "outputs": [],
      "source": [
        "y_train = np.array(my_train['Prediction'])\n",
        "\n",
        "f1 = np.array(my_train['img'])\n",
        "f2 = np.array(my_train['b'])\n",
        "f3 = np.array(my_train['a'])\n",
        "f4 = np.array(my_train['br'])\n",
        "f5 = np.array(my_train['table'])\n",
        "f6 = np.array(my_train['span'])\n",
        "f7 = np.array(my_train['tr'])\n",
        "f8 = np.array(my_train['title_len'])\n",
        "f9 = np.array(my_train['a_len'])\n",
        "f10 = np.array(my_train['body_len'])\n",
        "f11 = np.array(my_train['html_len'])\n",
        "f12 = np.array(my_train['url_len'])\n",
        "f13 = np.array(my_train['raw_url_len'])\n",
        "f14 = np.array(my_train['good'])\n",
        "f15 = np.array(my_train['url_words'])\n",
        "f16 = np.array(my_train['porn'])\n",
        "# my_train"
      ]
    },
    {
      "cell_type": "code",
      "execution_count": null,
      "metadata": {
        "id": "VQpbM31c_MLJ"
      },
      "outputs": [],
      "source": [
        "X_train_1 = np.array([f1, f2, f3, f4, f5, f6, f7, f8, f9, f10,\\\n",
        "                      f11, f12, f13, f14, f15, f16]).T"
      ]
    },
    {
      "cell_type": "code",
      "execution_count": null,
      "metadata": {
        "id": "CWL59ikb_MLJ"
      },
      "outputs": [],
      "source": [
        "f1t = np.array(my_test['img'])\n",
        "f2t = np.array(my_test['b'])\n",
        "f3t = np.array(my_test['a'])\n",
        "f4t = np.array(my_test['br'])\n",
        "f5t = np.array(my_test['table'])\n",
        "f6t = np.array(my_test['span'])\n",
        "f7t = np.array(my_test['tr'])\n",
        "f8t = np.array(my_test['title_len'])\n",
        "f9t = np.array(my_test['a_len'])\n",
        "f10t = np.array(my_test['body_len'])\n",
        "f11t = np.array(my_test['html_len'])\n",
        "f12t = np.array(my_test['url_len'])\n",
        "f13t = np.array(my_test['raw_url_len'])\n",
        "f14t = np.array(my_test['good'])\n",
        "f15t = np.array(my_test['url_words'])\n",
        "f16t = np.array(my_test['porn'])"
      ]
    },
    {
      "cell_type": "code",
      "execution_count": null,
      "metadata": {
        "id": "48ziubis_MLJ"
      },
      "outputs": [],
      "source": [
        "X_test = np.array([f1t, f2t, f3t, f4t, f5t, f6t, f7t, f8t, f9t, f10t,\\\n",
        "                   f11t, f12t, f13t, f14t, f15t, f16t]).T"
      ]
    },
    {
      "cell_type": "code",
      "execution_count": null,
      "metadata": {
        "id": "WLML5EaL_MLK"
      },
      "outputs": [],
      "source": [
        "def save_tables():\n",
        "    my_train.to_csv('final_train.csv', index=False)\n",
        "    my_test.to_csv('final_test.csv', index=False)"
      ]
    },
    {
      "cell_type": "code",
      "execution_count": null,
      "metadata": {
        "id": "IgWFYl4A_MLK"
      },
      "outputs": [],
      "source": [
        "params = {'learning_rate':[0.07],\\\n",
        "          'n_estimators' : [2000]}\n",
        "th = [0.51]"
      ]
    },
    {
      "cell_type": "code",
      "execution_count": null,
      "metadata": {
        "id": "VUtvOvOf_MLK"
      },
      "outputs": [],
      "source": [
        "# best = validation(X_train_1, y_train,\\\n",
        "#                   GradientBoostingClassifier,\\\n",
        "#                   params, KFold, thresholds=th)"
      ]
    },
    {
      "cell_type": "code",
      "execution_count": null,
      "metadata": {
        "id": "q-OFiRAu_MLK"
      },
      "outputs": [],
      "source": [
        "best = validation(X_train_1, y_train,\\\n",
        "                  CatBoostClassifier,\\\n",
        "                  params, KFold, thresholds=th)"
      ]
    },
    {
      "cell_type": "code",
      "execution_count": null,
      "metadata": {
        "id": "GP0UdqyO_MLL"
      },
      "outputs": [],
      "source": [
        "y_pred = predict(X_train_1, X_test, y_train,\\\n",
        "                 CatBoostClassifier, StandardScaler,\\\n",
        "                 best[2], **best[1],)"
      ]
    },
    {
      "cell_type": "code",
      "execution_count": null,
      "metadata": {
        "id": "7G8ZOnyH_MLL"
      },
      "outputs": [],
      "source": []
    },
    {
      "cell_type": "code",
      "execution_count": null,
      "metadata": {
        "id": "6VD2VQJA_MLL"
      },
      "outputs": [],
      "source": [
        "submit(y_pred)"
      ]
    },
    {
      "cell_type": "code",
      "execution_count": null,
      "metadata": {
        "id": "QG8I1jJG_MLL"
      },
      "outputs": [],
      "source": [
        "def submit(y_pred):\n",
        "    submission = pd.DataFrame({'Id' : ['Id'],\n",
        "                               'Prediction' : np.int64(y_pred)})\n",
        "    submission.to_csv('submission.csv', index = False)"
      ]
    },
    {
      "cell_type": "code",
      "execution_count": null,
      "metadata": {
        "id": "C3qz17Ji_MLL"
      },
      "outputs": [],
      "source": [
        "def predict(X_train, X_test, train_target, model, scaler=None, th=0.30, **kwargs):\n",
        "    \n",
        "    curr_model = model(**kwargs)\n",
        "    \n",
        "    if scaler is not None:\n",
        "        \n",
        "        your_scaler = scaler()\n",
        "        your_scaler.fit(X_train)\n",
        "        X_train = your_scaler.transform(X_train)\n",
        "        X_test = your_scaler.transform(X_test)\n",
        "        \n",
        "    curr_model.fit(X_train, train_target)\n",
        "#     y_pred = curr_model.predict(X_test)\n",
        "#     th = 0.35\n",
        "    print('Threshold = ', th )#,'Params = ', *kwargs.values)\n",
        "    y_pred = [0 if val < th else 1 for val in curr_model.predict_proba(X_test)[:,1]]\n",
        "    return y_pred"
      ]
    }
  ],
  "metadata": {
    "colab": {
      "collapsed_sections": [],
      "name": "Копия блокнота \"Antispam_antiporn.ipynb\"",
      "provenance": []
    },
    "kernelspec": {
      "display_name": "Python 3",
      "language": "python",
      "name": "python3"
    },
    "language_info": {
      "codemirror_mode": {
        "name": "ipython",
        "version": 3
      },
      "file_extension": ".py",
      "mimetype": "text/x-python",
      "name": "python",
      "nbconvert_exporter": "python",
      "pygments_lexer": "ipython3",
      "version": "3.8.5"
    }
  },
  "nbformat": 4,
  "nbformat_minor": 0
}
