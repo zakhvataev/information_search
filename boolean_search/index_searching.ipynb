{
  "nbformat": 4,
  "nbformat_minor": 0,
  "metadata": {
    "kernelspec": {
      "display_name": "Python 3",
      "language": "python",
      "name": "python3"
    },
    "language_info": {
      "codemirror_mode": {
        "name": "ipython",
        "version": 3
      },
      "file_extension": ".py",
      "mimetype": "text/x-python",
      "name": "python",
      "nbconvert_exporter": "python",
      "pygments_lexer": "ipython3",
      "version": "3.8.5"
    },
    "colab": {
      "name": "index_searching.ipynb",
      "provenance": []
    }
  },
  "cells": [
    {
      "cell_type": "code",
      "metadata": {
        "id": "EM0ndWzv9bJn"
      },
      "source": [
        "import re\n",
        "import numpy as np\n",
        "import nltk\n",
        "import zlib\n",
        "from collections import Counter\n",
        "from sklearn.feature_extraction.text import CountVectorizer"
      ],
      "execution_count": null,
      "outputs": []
    },
    {
      "cell_type": "code",
      "metadata": {
        "id": "m3Ji8-IA9bJp"
      },
      "source": [
        "pattern_url = re.compile(r'http[s]?://lenta.ru/\\w+/[0-9]{4}/[0-9]{2}/[0-9]{2}/\\w+')"
      ],
      "execution_count": null,
      "outputs": []
    },
    {
      "cell_type": "code",
      "metadata": {
        "id": "5q89mBti9bJq"
      },
      "source": [
        "def open_file(index):\n",
        "    f = open('dataset/lenta.ru' + index, encoding = 'utf-8', errors = 'ignore')\n",
        "    return f.read().lower()"
      ],
      "execution_count": null,
      "outputs": []
    },
    {
      "cell_type": "code",
      "metadata": {
        "id": "QgLA9ZwI9bJr"
      },
      "source": [
        "def url_text(raw_text):\n",
        "    clean_text = list()\n",
        "    keys = pattern_url.findall(raw_text)\n",
        "    text = pattern_url.split(raw_text)\n",
        "\n",
        "    clean_text = [re.findall(r'\\w+',article) for article in text]\n",
        "\n",
        "    return dict(zip(keys,clean_text[1:]))"
      ],
      "execution_count": null,
      "outputs": []
    },
    {
      "cell_type": "code",
      "metadata": {
        "id": "MOUd-LmE9bJr"
      },
      "source": [
        "def merge_dicts(dict1, dict2):\n",
        "    return {**dict1, **dict2}"
      ],
      "execution_count": null,
      "outputs": []
    },
    {
      "cell_type": "code",
      "metadata": {
        "id": "A9zGfo-v9bJr"
      },
      "source": [
        "def get_merged_straight_index():\n",
        "    straight_index = dict()\n",
        "    for i in range(1,9):\n",
        "        raw_txt = open_file(str(i))\n",
        "        straight_index = merge_dicts(straight_index, url_text(raw_txt))\n",
        "    return straight_index"
      ],
      "execution_count": null,
      "outputs": []
    },
    {
      "cell_type": "code",
      "metadata": {
        "id": "IjhFR00V9bJs"
      },
      "source": [
        "def url_base():\n",
        "    base_of_url = dict()\n",
        "    urls = list()\n",
        "    for i in range(1,8):\n",
        "        f = open_file(str(i))\n",
        "        urls += pattern_url.findall(f)\n",
        "        \n",
        "    for counter, url in enumerate(urls):\n",
        "        base_of_url = merge_dicts(base_of_url, {counter + 1 : url})\n",
        "    return base_of_url"
      ],
      "execution_count": null,
      "outputs": []
    },
    {
      "cell_type": "code",
      "metadata": {
        "id": "4b9Qi4sY9bJs"
      },
      "source": [
        "#Кодировка Фибоначчи\n",
        "def fib_encode(num):\n",
        "    fib_list = [1,1]\n",
        "    fib_ids = []\n",
        "    code = 0\n",
        "    \n",
        "    while num >= fib_list[-1]:\n",
        "        fib_list.append(fib_list[-2]+fib_list[-1])\n",
        "        \n",
        "    fib_list.reverse()\n",
        "    \n",
        "    for counter, i in enumerate(fib_list):\n",
        "        if(num >= fib_list[counter]):\n",
        "            num -= fib_list[counter]\n",
        "            fib_ids.append(len(fib_list)-counter-1)\n",
        "\n",
        "    fib_ids.reverse()\n",
        "    \n",
        "    for i in fib_ids:\n",
        "        mask = 1\n",
        "        mask <<= (i-1)\n",
        "        code |= mask\n",
        "        \n",
        "    return code"
      ],
      "execution_count": null,
      "outputs": []
    },
    {
      "cell_type": "code",
      "metadata": {
        "id": "yMsfe1TX9bJt"
      },
      "source": [
        "#Конкатенация 2х чисел Фибоначчи\n",
        "def len_fib(fib):\n",
        "    len_ = 0\n",
        "    while fib:\n",
        "        fib >>= 1\n",
        "        len_ += 1\n",
        "    \n",
        "    return len_\n",
        "\n",
        "def fib_concat(fib1, fib2):\n",
        "    fib1 <<= 1\n",
        "    fib1 += 1\n",
        "    fib1 <<= len_fib(fib2)\n",
        "    fib1 |= fib2\n",
        "    \n",
        "    return fib1"
      ],
      "execution_count": null,
      "outputs": []
    },
    {
      "cell_type": "code",
      "metadata": {
        "id": "ubxuAfGj9bJt"
      },
      "source": [
        "def encode_list(list_):\n",
        "    res = list_[0]\n",
        "    for i in list_[1:]:\n",
        "        res = fib_concat(res,i)\n",
        "    return res"
      ],
      "execution_count": null,
      "outputs": []
    },
    {
      "cell_type": "code",
      "metadata": {
        "id": "Y2uhxs979bJu"
      },
      "source": [
        "def get_n_fib(num):\n",
        "    return round((((1+5**(1/2))/2)**(num+1))/5**(1/2))"
      ],
      "execution_count": null,
      "outputs": []
    },
    {
      "cell_type": "code",
      "metadata": {
        "id": "8w23h5EU9bJu"
      },
      "source": [
        "# Декодировка Фибоначчи\n",
        "def decode_fib(bits):\n",
        "    flag = 0\n",
        "    counter = 0\n",
        "    sum_ = 0\n",
        "    res = list()\n",
        "\n",
        "    \n",
        "    while bits:\n",
        "        counter += 1\n",
        "        if bits & 1:\n",
        "            flag += 1\n",
        "            if flag > 1:\n",
        "                flag = 0\n",
        "                counter = 0\n",
        "                res.append(sum_)\n",
        "                sum_ = 0\n",
        "            else:\n",
        "                sum_ += (get_n_fib(counter))\n",
        "              \n",
        "        else:\n",
        "            flag = 0\n",
        "            \n",
        "        bits >>= 1\n",
        "    res.append(sum_)\n",
        "    res.reverse()\n",
        "    return res"
      ],
      "execution_count": null,
      "outputs": []
    },
    {
      "cell_type": "code",
      "metadata": {
        "id": "qQPJG7FB9bJu"
      },
      "source": [
        "#Составление списка словарей частот: {DOC_ID: term_frequency}\n",
        "def doc_frequency(base_url_dict):\n",
        "    posting_list = list()\n",
        "    for url in base_url_dict:\n",
        "        counts = Counter(straight_index[base_url_dict[url]])\n",
        "        posting_list.append((doc_id, dict(counts.most_common())))\n",
        "    return posting_list"
      ],
      "execution_count": null,
      "outputs": []
    },
    {
      "cell_type": "code",
      "metadata": {
        "id": "HY307dcV9bJv"
      },
      "source": [
        "def unique_words(urls):\n",
        "    raw_txt = set()\n",
        "    for doc_id in urls:\n",
        "        raw_txt |= set(straight_index[base_url_dict[doc_id]])\n",
        "    return raw_txt"
      ],
      "execution_count": null,
      "outputs": []
    },
    {
      "cell_type": "code",
      "metadata": {
        "id": "oxaAiJ7F9bJw"
      },
      "source": [
        "def get_text_corpus(nums):\n",
        "    corpus = list()\n",
        "    for i in nums:\n",
        "        f = open_file(str(i))\n",
        "        text = pattern_url.split(f)\n",
        "        corpus += [re.sub(r'\\W+', ' ', article) for article in text[1:]]\n",
        "\n",
        "    return corpus"
      ],
      "execution_count": null,
      "outputs": []
    },
    {
      "cell_type": "code",
      "metadata": {
        "id": "4wYmWcjB9bJw"
      },
      "source": [
        "def make_shift(list_of_docs):\n",
        "    res = [list_of_docs[i] - list_of_docs[i-1] for i in range(1, len(list_of_docs))]\n",
        "    return [list_of_docs[0]] + res\n",
        "\n",
        "def shift_away(list_of_docs):\n",
        "    res = list()\n",
        "    res.append(list_of_docs[0])\n",
        "    for i in range(1, len(list_of_docs)):\n",
        "        res += [res[i-1] + list_of_docs[i]]\n",
        "    return res"
      ],
      "execution_count": null,
      "outputs": []
    },
    {
      "cell_type": "code",
      "metadata": {
        "id": "YSFveJA09bJw"
      },
      "source": [
        "def get_compressed_index(corpus):\n",
        "    vectorizer = CountVectorizer()\n",
        "    X = vectorizer.fit_transform(corpus)\n",
        "    arr = X.toarray()\n",
        "    d = dict()\n",
        "    for term in vectorizer.get_feature_names():\n",
        "        term_id = vectorizer.vocabulary_.get(term)\n",
        "        docs = np.where(arr[:,term_id]>0)\n",
        "        freq = arr[:,term_id][np.where(arr[:,term_id]>0)[0]]\n",
        "        tmp = make_shift(docs[0])        \n",
        "        fib_docs = make_compression(tmp)\n",
        "        fib_freq = make_compression(freq)\n",
        "        \n",
        "        d[zlib.compress(str.encode(term))] = (encode_list(fib_docs), encode_list(fib_freq))\n",
        "    \n",
        "    return d"
      ],
      "execution_count": null,
      "outputs": []
    },
    {
      "cell_type": "code",
      "metadata": {
        "id": "28vH6xSR9bJx"
      },
      "source": [
        "def make_compression(docs):\n",
        "    fib_list = list()\n",
        "\n",
        "    for i in docs:\n",
        "        fib_list.append(fib_encode(i))\n",
        "        \n",
        "    return fib_list"
      ],
      "execution_count": null,
      "outputs": []
    },
    {
      "cell_type": "code",
      "metadata": {
        "id": "tj-F0vtW9bJx"
      },
      "source": [
        "# Получили поисковый индекс, получили базу URL\n",
        "INVERTED_COMPRESSED_INDEX = get_compressed_index(get_text_corpus([1,2,3,4,5,6,7]))"
      ],
      "execution_count": null,
      "outputs": []
    },
    {
      "cell_type": "code",
      "metadata": {
        "id": "1kErivoq9bJx"
      },
      "source": [
        "URL_BASE = url_base()"
      ],
      "execution_count": null,
      "outputs": []
    },
    {
      "cell_type": "code",
      "metadata": {
        "id": "P3iZrG7j9bJx"
      },
      "source": [
        "def search_one_term(term):\n",
        "    l = list()\n",
        "    \n",
        "    term = term.lower()\n",
        "    t_zlib = zlib.compress(str.encode(term))\n",
        "    \n",
        "    try:\n",
        "        docs_fib, freq_fib = INVERTED_COMPRESSED_INDEX[t_zlib]\n",
        "    except KeyError:\n",
        "        print('Нет совпадений со словом:', term)\n",
        "        return [],[]\n",
        "    \n",
        "    return shift_away(decode_fib(docs_fib)), decode_fib(freq_fib)"
      ],
      "execution_count": null,
      "outputs": []
    },
    {
      "cell_type": "code",
      "metadata": {
        "id": "cz6-MSRO9bJx"
      },
      "source": [
        "def extract_request(request):\n",
        "    res = request\n",
        "    \n",
        "    res = re.sub(r'&', r' & ', res)\n",
        "    res = re.sub(r'\\|', r' | ', res)\n",
        "    res = re.sub(r'\\(', r' ( ', res)\n",
        "    res = re.sub(r'\\)', r' ) ', res)\n",
        "    res = res.split()\n",
        "    \n",
        "    return res"
      ],
      "execution_count": null,
      "outputs": []
    },
    {
      "cell_type": "code",
      "metadata": {
        "id": "VVPelQta9bJy"
      },
      "source": [
        "def check_querry(q_list):\n",
        "    c_brackets = 0\n",
        "    c_words_operators = 0\n",
        "    \n",
        "    for i in q_list:\n",
        "        \n",
        "        if i == '(':\n",
        "            c_brackets += 1\n",
        "        elif i == ')':\n",
        "            c_brackets -= 1\n",
        "        elif i in ['&', '|']:\n",
        "            c_words_operators -= 1\n",
        "        else:\n",
        "            c_words_operators += 1\n",
        "            \n",
        "    if c_brackets:\n",
        "        return -1\n",
        "    elif c_words_operators != 1:\n",
        "        return -2\n",
        "    else:\n",
        "        return 0"
      ],
      "execution_count": null,
      "outputs": []
    },
    {
      "cell_type": "code",
      "metadata": {
        "id": "hCpynLAw9bJy"
      },
      "source": [
        "def boolean_search(request):\n",
        "    request = extract_request(request)\n",
        "    if not len(request):\n",
        "        print('Задан пустой поисковый запрос')\n",
        "        return\n",
        "    l = check_querry(request)\n",
        "    if l == -1:\n",
        "        print(\"Дисбаланс скобок в запросе\")\n",
        "        return\n",
        "    if l == -2:\n",
        "        print(\"Неверное количество операторов или операндов в запросе\")\n",
        "        return\n",
        "    stack = list()\n",
        "    out_s = list()\n",
        "    d = dict()\n",
        "    \n",
        "    for i in request:\n",
        "        if i == '(':\n",
        "            stack.append(i)\n",
        "        elif i == ')':\n",
        "            while stack[-1] != '(':\n",
        "                out_s.append(stack.pop())\n",
        "            stack.pop()\n",
        "        elif i == '|':\n",
        "            while stack and stack[-1] == '&':\n",
        "                out_s.append(stack.pop())\n",
        "            stack.append(i)\n",
        "        elif i == '&':\n",
        "            stack.append(i)\n",
        "        else:\n",
        "            new_docs, freq = search_one_term(i)\n",
        "            for i in range(len(new_docs)):\n",
        "                if(not d.get(new_docs[i])):\n",
        "                    d[new_docs[i]] = freq[i]\n",
        "                else:\n",
        "                    d[new_docs[i]] += freq[i]\n",
        "                \n",
        "            out_s.append(new_docs)\n",
        "            \n",
        "    while stack:\n",
        "        out_s.append(stack.pop())\n",
        "\n",
        "    c = 0\n",
        "    while len(out_s) > 1:\n",
        "        docs = []\n",
        "        if out_s[c] == '&':\n",
        "            docs += list(set(out_s[c-2]) & set(out_s[c-1]))\n",
        "            out_s = out_s[:c-2] + [docs] + out_s[c+1:]\n",
        "            c-=2\n",
        "            \n",
        "        elif out_s[c] == '|':\n",
        "            docs += list(set(out_s[c-2]) | set(out_s[c-1]))\n",
        "            out_s = out_s[:c-2] + [docs] + out_s[c+1:]\n",
        "            c-=2\n",
        "            \n",
        "        else:\n",
        "            pass\n",
        "        \n",
        "        c += 1\n",
        "    final  = []\n",
        "    for i in out_s[0]:\n",
        "        final.append((URL_BASE[i+1], d[i]))\n",
        "    if not len(final):\n",
        "        print('По вашему запросу ничего не найдено, попробуйте ещё')\n",
        "    else:\n",
        "        final.sort(key = lambda x:x[1], reverse=True)\n",
        "        print('Итого {} стр:\\n'.format(len(final)))\n",
        "        for i in range(len(final)):\n",
        "            print('URL: {}\\nВхождений слов из запроса{:_>20}\\n'.format(final[i][0], final[i][1]))\n",
        "\n",
        "    return"
      ],
      "execution_count": null,
      "outputs": []
    },
    {
      "cell_type": "code",
      "metadata": {
        "id": "pX7UyQ809bJ0",
        "outputId": "833d1faa-66cd-4672-f7ec-2ad24d3af269"
      },
      "source": [
        "boolean_search('')"
      ],
      "execution_count": null,
      "outputs": [
        {
          "output_type": "stream",
          "text": [
            "Задан пустой поисковый запрос\n"
          ],
          "name": "stdout"
        }
      ]
    },
    {
      "cell_type": "code",
      "metadata": {
        "id": "omQ4JZJ39bJ2",
        "outputId": "469cf6d9-ab2b-45ee-ecc4-b1221ab86096"
      },
      "source": [
        "boolean_search('путин & | медведев')"
      ],
      "execution_count": null,
      "outputs": [
        {
          "output_type": "stream",
          "text": [
            "Неверное количество операторов или операндов в запросе\n"
          ],
          "name": "stdout"
        }
      ]
    },
    {
      "cell_type": "code",
      "metadata": {
        "id": "NOEzVwaz9bJ3",
        "outputId": "f77cbbfa-73de-4e56-8df4-0d52c8b98913"
      },
      "source": [
        "boolean_search('((путин) & лес)))')"
      ],
      "execution_count": null,
      "outputs": [
        {
          "output_type": "stream",
          "text": [
            "Дисбаланс скобок в запросе\n"
          ],
          "name": "stdout"
        }
      ]
    },
    {
      "cell_type": "code",
      "metadata": {
        "id": "wY0dsrGW9bJ4",
        "outputId": "a28835c6-2858-4930-f27c-7417e1e33b57"
      },
      "source": [
        "boolean_search('аввап & путин')"
      ],
      "execution_count": null,
      "outputs": [
        {
          "output_type": "stream",
          "text": [
            "Нет совпадений со словом: аввап\n",
            "По вашему запросу ничего не найдено, попробуйте ещё\n"
          ],
          "name": "stdout"
        }
      ]
    },
    {
      "cell_type": "code",
      "metadata": {
        "id": "8XVeHK0o9bJ5",
        "outputId": "01594c69-83e7-47ba-902e-746802bad743"
      },
      "source": [
        "boolean_search('путин & медведев&сша')"
      ],
      "execution_count": null,
      "outputs": [
        {
          "output_type": "stream",
          "text": [
            "Итого 9 стр:\n",
            "\n",
            "URL: http://lenta.ru/russia/2001/11/01/malyshev\n",
            "Вхождений слов из запроса__________________23\n",
            "\n",
            "URL: http://lenta.ru/culture/2001/07/19/archer\n",
            "Вхождений слов из запроса__________________17\n",
            "\n",
            "URL: http://lenta.ru/online/2009/05/08/rususa\n",
            "Вхождений слов из запроса__________________17\n",
            "\n",
            "URL: http://lenta.ru/news/2015/10/15/otkaz\n",
            "Вхождений слов из запроса__________________13\n",
            "\n",
            "URL: http://lenta.ru/news/2009/04/27/soldier\n",
            "Вхождений слов из запроса__________________12\n",
            "\n",
            "URL: http://lenta.ru/articles/2008/12/31/finalblogs\n",
            "Вхождений слов из запроса___________________5\n",
            "\n",
            "URL: http://lenta.ru/news/2015/06/19/williams\n",
            "Вхождений слов из запроса___________________4\n",
            "\n",
            "URL: http://lenta.ru/articles/2010/03/30/review\n",
            "Вхождений слов из запроса___________________4\n",
            "\n",
            "URL: http://lenta.ru/news/2009/12/28/an124\n",
            "Вхождений слов из запроса___________________3\n",
            "\n"
          ],
          "name": "stdout"
        }
      ]
    },
    {
      "cell_type": "code",
      "metadata": {
        "id": "P0Vb6bll9bJ5",
        "outputId": "05c67059-d254-4137-de77-17ccbfc5c799"
      },
      "source": [
        "boolean_search('путин&налоги')"
      ],
      "execution_count": null,
      "outputs": [
        {
          "output_type": "stream",
          "text": [
            "Итого 4 стр:\n",
            "\n",
            "URL: http://lenta.ru/articles/2008/12/04/putin\n",
            "Вхождений слов из запроса__________________50\n",
            "\n",
            "URL: http://lenta.ru/russia/2001/11/01/malyshev\n",
            "Вхождений слов из запроса__________________20\n",
            "\n",
            "URL: http://lenta.ru/articles/2015/12/30/sotsialka\n",
            "Вхождений слов из запроса___________________6\n",
            "\n",
            "URL: http://lenta.ru/news/2012/04/24/tax\n",
            "Вхождений слов из запроса___________________4\n",
            "\n"
          ],
          "name": "stdout"
        }
      ]
    },
    {
      "cell_type": "code",
      "metadata": {
        "id": "Zruqhop39bJ8"
      },
      "source": [
        ""
      ],
      "execution_count": null,
      "outputs": []
    }
  ]
}