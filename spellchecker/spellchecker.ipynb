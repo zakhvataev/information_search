{
  "nbformat": 4,
  "nbformat_minor": 0,
  "metadata": {
    "kernelspec": {
      "display_name": "Python 3",
      "language": "python",
      "name": "python3"
    },
    "language_info": {
      "codemirror_mode": {
        "name": "ipython",
        "version": 3
      },
      "file_extension": ".py",
      "mimetype": "text/x-python",
      "name": "python",
      "nbconvert_exporter": "python",
      "pygments_lexer": "ipython3",
      "version": "3.8.5"
    },
    "colab": {
      "name": "SpellChecker.ipynb",
      "provenance": []
    }
  },
  "cells": [
    {
      "cell_type": "code",
      "metadata": {
        "id": "Xd-cTde4BB2X"
      },
      "source": [
        "import numpy as np\n",
        "import re\n",
        "from sklearn.feature_extraction.text import CountVectorizer\n",
        "from functools import reduce\n",
        "import _pickle as pickle"
      ],
      "execution_count": null,
      "outputs": []
    },
    {
      "cell_type": "code",
      "metadata": {
        "id": "RASLNdVVBB2b"
      },
      "source": [
        "eng_rus = {'q':'й', 'w':'ц', 'e':'у', 'r':'к', 't':'е', 'y':'н'\\\n",
        "           , 'u':'г', 'i':'ш', 'o':'щ', 'p':'з','[':'х',']':'ъ','a':'ф',\\\n",
        "           's':'ы','d':'в','f':'а','g':'п','h':'р','j':'о','k':'л'\\\n",
        "           ,'l':'д',';':'ж','\\'':'э','z':'я','x':'ч','c':'с','v':'м','b':'и','n':'т','m':'ь',',':'б','.':'ю'}\n",
        "rus_eng = {rus:eng for eng, rus in eng_rus.items()}"
      ],
      "execution_count": null,
      "outputs": []
    },
    {
      "cell_type": "code",
      "metadata": {
        "id": "J_DEhAmuBB2c"
      },
      "source": [
        "def flatten(x):\n",
        "    result = []\n",
        "    for elem in x:\n",
        "        if hasattr(elem, \"__iter__\") and not isinstance(elem, str) and not isinstance(elem, tuple) and len(elem)>1:\n",
        "            result.extend(flatten(elem))\n",
        "        else:\n",
        "            result.append(elem)\n",
        "    return result"
      ],
      "execution_count": null,
      "outputs": []
    },
    {
      "cell_type": "code",
      "metadata": {
        "id": "jzDacGA_BB2d"
      },
      "source": [
        "def list_concat(list1, list2):\n",
        "    \n",
        "    len1 = len(list1)\n",
        "    len2 = len(list2)\n",
        "    \n",
        "    return [[list1[i], list2[j]] for i in range(len1) for j in range(len2)]"
      ],
      "execution_count": null,
      "outputs": []
    },
    {
      "cell_type": "code",
      "metadata": {
        "id": "tDowNQSCBB2e"
      },
      "source": [
        "def combinations(params):\n",
        "    \n",
        "    list_ = params\n",
        "    tmp = reduce(lambda x, y: list_concat(x, y), list_)\n",
        "    \n",
        "    res = []\n",
        "    for elem in tmp:\n",
        "        param_list = flatten([elem])\n",
        "        res.append(param_list)\n",
        "        \n",
        "    return res"
      ],
      "execution_count": null,
      "outputs": []
    },
    {
      "cell_type": "code",
      "metadata": {
        "id": "BgOeWaNqBB2f"
      },
      "source": [
        "def corrected_requests():\n",
        "    req_corr=[]\n",
        "    req=[]\n",
        "    corr=[]\n",
        "    with open('queries_all.txt', 'r') as f:\n",
        "        line = f.readline()\n",
        "        while line:\n",
        "            if line.find('\\t') != -1:\n",
        "                tmp = line.split('\\t')\n",
        "                s1 = tmp[0].split()\n",
        "                s2 = tmp[1].split()\n",
        "                if len(s1) == len(s2):\n",
        "                    for i in range(len(s1)):\n",
        "                        if s1[i] != s2[i] and len(s1[i]) < 14:\n",
        "                            req += [s1[i].lower()]\n",
        "                            corr += [s2[i].lower()]\n",
        "            line = f.readline()\n",
        "    req_corr = list(zip(req,corr))\n",
        "    return req_corr\n",
        "l_ = corrected_requests()"
      ],
      "execution_count": null,
      "outputs": []
    },
    {
      "cell_type": "code",
      "metadata": {
        "id": "bUb8w5JqBB2g"
      },
      "source": [
        "def levenshtein(seq1, seq2):\n",
        "   \n",
        "    size_x = len(seq1)+1\n",
        "    size_y = len(seq2)+1\n",
        "    matrix = np.zeros((size_x, size_y))\n",
        "    for x in range(size_x):\n",
        "        matrix[x, 0] = x\n",
        "    for y in range(size_y):\n",
        "        matrix[0, y] = y\n",
        "\n",
        "    for x in range(1, size_x):\n",
        "        for y in range(1, size_y):\n",
        "            if seq1[x-1] == seq2[y-1]:\n",
        "                matrix[x, y] = min(\n",
        "                    matrix[x-1, y] + 1,\n",
        "                    matrix[x-1, y-1],\n",
        "                    matrix[x, y-1] + 1)\n",
        "            else:\n",
        "                matrix[x, y] = min(\n",
        "                    matrix[x-1, y] + 1,     # удаление\n",
        "                    matrix[x-1, y-1] + 1,   # замена\n",
        "                    matrix[x, y-1] + 1)     # вставка\n",
        "\n",
        "    return matrix#[size_x-1, size_y-1]"
      ],
      "execution_count": null,
      "outputs": []
    },
    {
      "cell_type": "code",
      "metadata": {
        "id": "602n6Lt3BB2g"
      },
      "source": [
        "def optimumWalk():\n",
        "    \n",
        "    delete_dict = {}\n",
        "    replace_dict = {}\n",
        "    insert_dict = {}\n",
        "    \n",
        "    def correctWalk(x=0, y=0, seq1='', seq2=''):\n",
        "        \n",
        "        if not seq1[:x-1] and not seq2[:y-1]:\n",
        "            return 1\n",
        "\n",
        "        res = 0\n",
        "        \n",
        "        \n",
        "        if seq1[:x-1] and seq2[:y-1]:\n",
        "            \n",
        "            # Удаление оптимально \n",
        "            if matrix[x-1, y] <= matrix[x-1, y-1] and matrix[x-1, y] <= matrix[x, y-1]:\n",
        "                \n",
        "                if seq1[x:] and (seq2[y-1] != seq1[x-1] or seq1[x-1] == seq1[x-2]):\n",
        "                    if delete_dict.get(seq1[x-1]):\n",
        "                        if delete_dict[seq1[x-1]].get(seq1[x-2]):\n",
        "                            delete_dict[seq1[x-1]][seq1[x-2]] += 1\n",
        "                        else:\n",
        "                            delete_dict[seq1[x-1]][seq1[x-2]] = 1\n",
        "                    else:\n",
        "                        delete_dict[seq1[x-1]] = {seq1[x-2] : 1}\n",
        "\n",
        "                res += correctWalk(x-1, y, seq1, seq2)\n",
        "                \n",
        "            # Замена оптимальна\n",
        "            if matrix[x-1, y-1] <= matrix[x-1, y] and matrix[x-1, y-1] <= matrix[x, y-1]:\n",
        "                \n",
        "                if seq1[x:] and (seq1[x-1] != seq2[y-1]):\n",
        "                    if replace_dict.get(seq2[y-1]):\n",
        "                        if replace_dict[seq2[y-1]].get(seq1[x-1]):\n",
        "                            if replace_dict[seq2[y-1]][seq1[x-1]].get(seq1[x-2]):\n",
        "                                replace_dict[seq2[y-1]][seq1[x-1]][seq1[x-2]] += 1\n",
        "                            else:\n",
        "                                replace_dict[seq2[y-1]][seq1[x-1]][seq1[x-2]] = 1\n",
        "                        else:\n",
        "                            replace_dict[seq2[y-1]][seq1[x-1]] = {seq1[x-2] : 1}\n",
        "                    else:\n",
        "                        replace_dict[seq2[y-1]] = {seq1[x-1] : {seq1[x-2] : 1}}\n",
        "                        \n",
        "                res += correctWalk(x-1, y-1, seq1, seq2)\n",
        "                \n",
        "            # Вставка оптимальна\n",
        "            if matrix[x, y-1] <= matrix[x-1, y-1] and matrix [x, y-1] <= matrix[x-1, y]:\n",
        "               \n",
        "                if seq2[y:] and (seq1[x-1] != seq2[y-1] or seq2[y-1] == seq2[y-2]):\n",
        "                    if insert_dict.get(seq2[y-1]):\n",
        "                        if insert_dict[seq2[y-1]].get(seq1[x-1]):\n",
        "                            insert_dict[seq2[y-1]][seq1[x-1]] += 1\n",
        "                        else:\n",
        "                            insert_dict[seq2[y-1]][seq1[x-1]] = 1\n",
        "                    else:\n",
        "                        insert_dict[seq2[y-1]] = {seq1[x-1] : 1}\n",
        "                        \n",
        "                res += correctWalk(x, y-1, seq1, seq2)\n",
        "\n",
        "        # Безусловная вставка(дошли до края по x) \n",
        "        if not seq1[:x-1]:\n",
        "            if seq2[y:] and (seq2[y-1] == seq2[y-2]):\n",
        "                if insert_dict.get(seq2[y-1]):\n",
        "                    if insert_dict[seq2[y-1]].get(seq1[x-1]):\n",
        "                        insert_dict[seq2[y-1]][seq1[x-1]] += 1\n",
        "                    else:\n",
        "                        insert_dict[seq2[y-1]][seq1[x-1]] = 1\n",
        "                else:\n",
        "                    insert_dict[seq2[y-1]] = {seq1[x-1] : 1}\n",
        "            \n",
        "            correctWalk(x, y-1, seq1, seq2)\n",
        "\n",
        "        # Безусловное удаление(дошли до края по y)\n",
        "        if not seq2[:y-1]:\n",
        "            if seq1[x:] and (seq2[y-1] != seq1[x-1] or seq1[x-1] == seq1[x-2]):\n",
        "                if delete_dict.get(seq1[x-1]):\n",
        "                    if delete_dict[seq1[x-1]].get(seq1[x-2]):\n",
        "                        delete_dict[seq1[x-1]][seq1[x-2]] += 1\n",
        "                    else:\n",
        "                        delete_dict[seq1[x-1]][seq1[x-2]] = 1\n",
        "                else:\n",
        "                    delete_dict[seq1[x-1]] = {seq1[x-2] : 1}\n",
        "\n",
        "            correctWalk(x-1, y, seq1, seq2)\n",
        "\n",
        "        return res\n",
        "    \n",
        "    \n",
        "    list_ = corrected_requests()\n",
        "    \n",
        "    for i in range(len(list_)):\n",
        "        seq1 = '*' + list_[i][0] + '*'\n",
        "        seq2 = '*' + list_[i][1] + '*'\n",
        "        matrix = levenshtein(seq1, seq2)\n",
        "        correctWalk(matrix.shape[0]-1, matrix.shape[1]-1, seq1, seq2)\n",
        "    \n",
        "    # Получаем частоты\n",
        "    s=0\n",
        "    for key1 in delete_dict:\n",
        "        for key2 in delete_dict[key1]:\n",
        "            s += delete_dict[key1][key2]\n",
        "\n",
        "    for key1 in delete_dict:\n",
        "        for key2 in delete_dict[key1]:\n",
        "            delete_dict[key1][key2] /= s\n",
        "            \n",
        "    s=0\n",
        "    for key1 in replace_dict:\n",
        "        for key2 in replace_dict[key1]:\n",
        "            for key3 in replace_dict[key1][key2]:\n",
        "                s += replace_dict[key1][key2][key3]\n",
        "    \n",
        "    for key1 in replace_dict:\n",
        "        for key2 in replace_dict[key1]:\n",
        "            for key3 in replace_dict[key1][key2]:\n",
        "                replace_dict[key1][key2][key3] /= s\n",
        "    s=0\n",
        "    for key1 in insert_dict:\n",
        "        for key2 in insert_dict[key1]:\n",
        "            s += insert_dict[key1][key2]\n",
        "            \n",
        "    for key1 in insert_dict:\n",
        "        for key2 in insert_dict[key1]:\n",
        "            insert_dict[key1][key2] /= s\n",
        "        \n",
        "    return delete_dict, replace_dict, insert_dict"
      ],
      "execution_count": null,
      "outputs": []
    },
    {
      "cell_type": "code",
      "metadata": {
        "id": "E4ey_0K1BB2i"
      },
      "source": [
        "class SimpleStorage:\n",
        "    def __init__(self):\n",
        "        self.fileName = 'queries_all.txt'\n",
        "        self.corpus = []\n",
        "        self.freqWords = {}\n",
        "        self.freqBigramsWords = {}\n",
        "        \n",
        "    def initFreqWords(self):\n",
        "        s = 0\n",
        "        \n",
        "        with open(self.fileName, 'r') as f:\n",
        "            for word in f.read().split():\n",
        "                word = word[:20]\n",
        "                word = word.lower()\n",
        "                \n",
        "                if word not in self.freqWords:\n",
        "                    self.freqWords[word] = 1\n",
        "                else:\n",
        "                    self.freqWords[word] += 1\n",
        "                    \n",
        "        for key in list(self.freqWords):\n",
        "            if self.freqWords[key] < 3:\n",
        "                del self.freqWords[key]\n",
        "\n",
        "        for key in self.freqWords:\n",
        "            s += self.freqWords[key]\n",
        "            \n",
        "        for key in self.freqWords:\n",
        "            self.freqWords[key] /= s\n",
        "            \n",
        "            \n",
        "    def initCorpus(self):\n",
        "        with open(self.fileName, 'r') as f:\n",
        "            line = f.readline()\n",
        "            while line:\n",
        "                self.corpus += [line[:-1].lower()]\n",
        "                line = f.readline()\n",
        "\n",
        "\n",
        "    def initBigramsWords(self):\n",
        "        s = 0\n",
        "        vectorizer = CountVectorizer(analyzer='word', ngram_range=(2, 2))\n",
        "\n",
        "        X = vectorizer.fit_transform(self.corpus)\n",
        "        bigramms = vectorizer.get_feature_names()\n",
        "        freqs = np.array(X.sum(axis=0))[0]\n",
        "\n",
        "        for i in range(freqs.shape[0]):\n",
        "            if freqs[i] > 1:\n",
        "                self.freqBigramsWords[bigramms[i]] = freqs[i]\n",
        "        \n",
        "        for key in self.freqBigramsWords:\n",
        "            s += self.freqBigramsWords[key]\n",
        "            \n",
        "        for key in self.freqBigramsWords:\n",
        "            self.freqBigramsWords[key] /= s\n",
        "            \n",
        "    def getWords(self):\n",
        "        return self.freqWords\n",
        "    \n",
        "    def getBigrams(self):\n",
        "        return self.freqBigramsWords\n",
        "    "
      ],
      "execution_count": null,
      "outputs": []
    },
    {
      "cell_type": "code",
      "metadata": {
        "id": "a6cQm1mnBB2l"
      },
      "source": [
        "def searchRequest(request):\n",
        "    \n",
        "    if not request:\n",
        "        return \"Задан пустой поисковый запрос\"\n",
        "    request = request.lower()\n",
        "    l = request.split(' ')\n",
        "    l = [i.replace(' ', '') for i in l]\n",
        "    l = [i for i in l if i]\n",
        "    candidates = []\n",
        "    prop = []\n",
        "    propW = {}\n",
        "    flag = False\n",
        "    tmp1 = []\n",
        "    max_ = -1\n",
        "    \n",
        "    #  Разделение   \n",
        "    for string in l:\n",
        "        if My_Tree.search_relevant(string) == []:\n",
        "            for i in range(len(string)):\n",
        "                if string[:i+1] in STORAGE.getWords() and string[i+1:] in STORAGE.getWords():\n",
        "                    if STORAGE.getWords()[string[:i+1]] + STORAGE.getWords()[string[i+1:]] > max_:\n",
        "                        tmp1 += [string[:i+1]]\n",
        "                        tmp1 += [string[i+1:]]\n",
        "                        max_ = STORAGE.getWords()[string[:i+1]] + STORAGE.getWords()[string[i+1:]]\n",
        "            if max_ == -1:\n",
        "                tmp1 += [string]\n",
        "            else:\n",
        "                max_ = -1\n",
        "        else:\n",
        "            tmp1 += [string]\n",
        "                        \n",
        "    l = tmp1\n",
        "    # ____________________________________________________________________________________________________________\n",
        "\n",
        "    # Соединение\n",
        "    tmp2=[]\n",
        "    flag = True\n",
        "    \n",
        "    for i in range(len(l)-1):\n",
        "        \n",
        "        if l[i]+l[i+1] in STORAGE.getWords():\n",
        "            tmp2 = tmp2[:i] + [l[i]+l[i+1]]\n",
        "            flag = False\n",
        "        \n",
        "        else:\n",
        "            if flag:\n",
        "                tmp2 += [l[i]]\n",
        "            if i+2 == len(l):\n",
        "                tmp2 += [l[-1]]\n",
        "            flag = True\n",
        "        \n",
        "    # ____________________________________________________________________________________________________________\n",
        "\n",
        "    if tmp2:\n",
        "        l = tmp2\n",
        "        \n",
        "    for string in l:\n",
        "        tmp = My_Tree.search_relevant(string)\n",
        "        if tmp:\n",
        "            tmp.sort(key = lambda x: (x[1]))\n",
        "            tmp = tmp[-5:]\n",
        "            candidates += [tmp]\n",
        "        \n",
        "    tmp = []\n",
        "    for i in range(len(candidates)):\n",
        "        tmp += [[j[0] for j in candidates[i]]]\n",
        "        \n",
        "        for j in candidates[i]:\n",
        "            propW[j[0]] = j[1]\n",
        "\n",
        "    if tmp:\n",
        "        variables = combinations(tmp)\n",
        "    else:\n",
        "        return request\n",
        "    tmp = 0\n",
        "    for i in range(len(variables)):\n",
        "        for j in range(len(variables[i])-1):\n",
        "            if STORAGE.getBigrams().get(variables[i][j]+' '+variables[i][j+1]):\n",
        "                tmp += np.log(STORAGE.getBigrams()[variables[i][j]+' '+variables[i][j+1]])\n",
        "            else:\n",
        "                tmp += 0\n",
        "        prop += [tmp]\n",
        "        tmp = 0\n",
        "        \n",
        "    tmp = 1\n",
        "    for i in range(len(prop)):\n",
        "        for j in range(len(variables[i])):\n",
        "            tmp += propW[variables[i][j]]\n",
        "        prop[i] += tmp\n",
        "        tmp = 1\n",
        "    \n",
        "    prop.sort()\n",
        "    ind = np.argsort(prop)    \n",
        "    result = [variables[i] for i in ind[-1:]]\n",
        "    result = result[0]\n",
        "    out = ''\n",
        "    for i in range(len(result)):\n",
        "        out += result[i]+' '\n",
        "        \n",
        "    return out[:-1]"
      ],
      "execution_count": null,
      "outputs": []
    },
    {
      "cell_type": "code",
      "metadata": {
        "id": "AtcIjmlFBB2n"
      },
      "source": [
        "class Trie:\n",
        "    \n",
        "    def __init__(self):\n",
        "        self.children = {}\n",
        "        self.word = ''\n",
        "        self.isWord = False\n",
        "                \n",
        "    def insert(self,  word, level=0):\n",
        "        \"\"\"\n",
        "        Recursion insert of new word in Trie\n",
        "        \"\"\"\n",
        "        if not word:\n",
        "            return\n",
        "\n",
        "        if word[level] not in self.children:\n",
        "            self.children[word[level]] = Trie()\n",
        "        \n",
        "        \n",
        "        if word[level+1:]:\n",
        "            self.children[word[level]].insert(word, level+1)\n",
        "            \n",
        "        else:\n",
        "            self.children[word[level]].word = word\n",
        "            self.children[word[level]].isWord = True\n",
        "        \n",
        "    def search_relevant(self, word, level=0, p=0.9999, translate = True, insert=False, delete=False):\n",
        "        \"\"\"\n",
        "        Returns list of closest words in Trie\n",
        "        1 - 0.45197\n",
        "        2 - 0.20419\n",
        "        3 - 0.09227\n",
        "        4 - 0.04169\n",
        "        5 - 0.01884\n",
        "        *10**(-5)\n",
        "        \"\"\"        \n",
        "        \n",
        "        if p < 0.04*(10**-5):\n",
        "            return []\n",
        "        \n",
        "        if not word[level:]:\n",
        "            if self.isWord:\n",
        "                return [(self.word, 1*np.log(STORAGE.getWords()[self.word])+np.log(p),np.log(p))]\n",
        "            else:\n",
        "                return []\n",
        "        \n",
        "        res = []\n",
        "        \n",
        "        # Раскладка\n",
        "        if translate:\n",
        "            f = 0\n",
        "            new_word = ''\n",
        "            for i in word:\n",
        "                if not i in eng_rus:\n",
        "                    f = 1\n",
        "                else:\n",
        "                    new_word += eng_rus[i]\n",
        "                    \n",
        "            if not f:\n",
        "                res += self.search_relevant(new_word,0,0.9999,False)\n",
        "            \n",
        "            f = 0\n",
        "            new_word = ''\n",
        "            for i in word:\n",
        "                if not i in rus_eng:\n",
        "                    f = 1\n",
        "                else:\n",
        "                    new_word += rus_eng[i]\n",
        "            if not f:\n",
        "                res += self.search_relevant(new_word,0,0.9999,False)\n",
        "        \n",
        "        \n",
        "        for letter in self.children.keys():\n",
        "\n",
        "            # Вставка\n",
        "            if letter in INS_D and not delete:\n",
        "                if word[level-1] in INS_D[letter]:\n",
        "                    res += self.children[letter].search_relevant(word, level, p*INS_D[letter][word[level-1]],\\\n",
        "                                                                 False, False, True)\n",
        "\n",
        "            # Идём по слову\n",
        "            if word[level] == letter:\n",
        "                res += self.children[letter].search_relevant(word, level+1, p, False, False, False)\n",
        "            \n",
        "            # Замена\n",
        "            else:\n",
        "                if word[level] in REPL_D:\n",
        "                    if letter in REPL_D[word[level]]:\n",
        "                        if word[level-1] in REPL_D[word[level]][letter]:\n",
        "                            res += self.children[letter].search_relevant(word, level+1,\\\n",
        "                                                                        p*REPL_D[word[level]][letter][word[level-1]],\\\n",
        "                                                                        False, False, False)\n",
        "            # Удаление\n",
        "            if word[level] in DEL_D and (not insert) and (not delete):\n",
        "                if word[level-1] in DEL_D[word[level]]:\n",
        "                    res += self.children[letter].search_relevant(word[:level]+word[level+1:], level+1,\\\n",
        "                                    p*DEL_D[word[level]][word[level-1]], False, True, False)\n",
        "                    \n",
        "            \n",
        "        return res\n",
        "    \n",
        "    def isPrefix(self, prefix):\n",
        "        \"\"\"\n",
        "        Returns True if the word  is prefix\n",
        "        \"\"\"\n",
        "        \n",
        "        if not prefix:\n",
        "            return True\n",
        "        \n",
        "        if prefix[0] in self.children:\n",
        "            return self.children[prefix[0]].isPrefix(prefix[1:])\n",
        "        \n",
        "        return False"
      ],
      "execution_count": null,
      "outputs": []
    },
    {
      "cell_type": "code",
      "metadata": {
        "id": "prH1xDsNBB2o",
        "outputId": "d1569313-4c19-4cfd-8782-0e6de8983422"
      },
      "source": [
        "%%time\n",
        "\"\"\"\n",
        "Инициализация словаря слов, словаря биграмм слов.\n",
        "\"\"\"\n",
        "\n",
        "STORAGE = SimpleStorage()\n",
        "STORAGE.initFreqWords()\n",
        "STORAGE.initCorpus()\n",
        "STORAGE.initBigramsWords()"
      ],
      "execution_count": null,
      "outputs": [
        {
          "output_type": "stream",
          "text": [
            "CPU times: user 36.3 s, sys: 790 ms, total: 37.1 s\n",
            "Wall time: 37.1 s\n"
          ],
          "name": "stdout"
        }
      ]
    },
    {
      "cell_type": "code",
      "metadata": {
        "id": "HWX_1sckBB2p",
        "outputId": "907b2d16-e622-4ae2-de34-42bc241870fd"
      },
      "source": [
        "%%time\n",
        "\"\"\"\n",
        "Инициализация словарей ошибок, таких как: удаление, замена, вставка\n",
        "\"\"\"\n",
        "DEL_D, REPL_D, INS_D = optimumWalk()"
      ],
      "execution_count": null,
      "outputs": [
        {
          "output_type": "stream",
          "text": [
            "CPU times: user 35.7 s, sys: 371 ms, total: 36.1 s\n",
            "Wall time: 34.8 s\n"
          ],
          "name": "stdout"
        }
      ]
    },
    {
      "cell_type": "code",
      "metadata": {
        "id": "ymTpHjeKBB2p",
        "outputId": "f8a7fd56-079a-42fe-b3ce-a91a643e98c7"
      },
      "source": [
        "%%time\n",
        "\"\"\"\n",
        "Инициализация бора, где будут храниться все слова из словаря слов\n",
        "\"\"\"\n",
        "My_Tree = Trie()\n",
        "for i in STORAGE.getWords():\n",
        "    My_Tree.insert(i)"
      ],
      "execution_count": null,
      "outputs": [
        {
          "output_type": "stream",
          "text": [
            "CPU times: user 4.76 s, sys: 9.18 ms, total: 4.77 s\n",
            "Wall time: 4.76 s\n"
          ],
          "name": "stdout"
        }
      ]
    },
    {
      "cell_type": "code",
      "metadata": {
        "id": "d2B33O3WBB2q",
        "outputId": "930ffb68-b8b1-4d87-e69e-269a1d6e3757"
      },
      "source": [
        "%%time\n",
        "\"\"\"\n",
        "Пример поиска кандидатов одного слова\n",
        "\"\"\"\n",
        "result = My_Tree.search_relevant('смоаfреть')\n",
        "result.sort(key = lambda x: (x[1]))\n",
        "result[::-1][:5]"
      ],
      "execution_count": null,
      "outputs": [
        {
          "output_type": "stream",
          "text": [
            "CPU times: user 21.3 ms, sys: 23 µs, total: 21.3 ms\n",
            "Wall time: 19.7 ms\n"
          ],
          "name": "stdout"
        },
        {
          "output_type": "execute_result",
          "data": {
            "text/plain": [
              "[('смотреть', -13.474376718361565, -9.285332007004758),\n",
              " ('смоьреть', -23.311314840347492, -9.285332007004758),\n",
              " ('ссмотреть', -27.895240153682177, -13.686935763545488)]"
            ]
          },
          "metadata": {
            "tags": []
          },
          "execution_count": 208
        }
      ]
    },
    {
      "cell_type": "code",
      "metadata": {
        "id": "ymQurJQfBB2q",
        "outputId": "eb885965-1a64-4a2f-cfe2-4110a8cdd3ab"
      },
      "source": [
        "%%time\n",
        "result = My_Tree.search_relevant('молоооко')\n",
        "result.sort(key = lambda x: (x[1]))\n",
        "result[::-1][:5]"
      ],
      "execution_count": null,
      "outputs": [
        {
          "output_type": "stream",
          "text": [
            "CPU times: user 39.6 ms, sys: 0 ns, total: 39.6 ms\n",
            "Wall time: 37.3 ms\n"
          ],
          "name": "stdout"
        },
        {
          "output_type": "execute_result",
          "data": {
            "text/plain": [
              "[('молочко', -15.97251732515777, -3.373650847455183),\n",
              " ('молоко', -21.543202126299683, -11.409039591067573),\n",
              " ('молодого', -22.87115923354383, -10.92461794188093),\n",
              " ('молочка', -23.83572229432051, -9.404274352869612),\n",
              " ('молочко', -24.649759954942557, -12.050893477239969)]"
            ]
          },
          "metadata": {
            "tags": []
          },
          "execution_count": 217
        }
      ]
    },
    {
      "cell_type": "code",
      "metadata": {
        "id": "E8XiKpLeBB2r",
        "outputId": "4492bd58-359f-4cc8-e219-47f156d09dad"
      },
      "source": [
        "%%time\n",
        "result = My_Tree.search_relevant('прзенация')\n",
        "result.sort(key = lambda x: (x[1]))\n",
        "result[::-1][:5]"
      ],
      "execution_count": null,
      "outputs": [
        {
          "output_type": "stream",
          "text": [
            "CPU times: user 27.8 ms, sys: 207 µs, total: 28 ms\n",
            "Wall time: 26.1 ms\n"
          ],
          "name": "stdout"
        },
        {
          "output_type": "execute_result",
          "data": {
            "text/plain": [
              "[('презентация', -21.916710719143445, -13.14387353370203),\n",
              " ('призентация', -26.396336391335105, -13.574326362318306)]"
            ]
          },
          "metadata": {
            "tags": []
          },
          "execution_count": 218
        }
      ]
    },
    {
      "cell_type": "code",
      "metadata": {
        "id": "6WYWly55BB2s",
        "outputId": "610d7a27-c2d8-4931-fec5-43b4f0693233"
      },
      "source": [
        "%%time\n",
        "\"\"\"\n",
        "Пример поиска кандидатов запроса\n",
        "\"\"\"\n",
        "searchRequest('смоаfреть ghptynfwb')"
      ],
      "execution_count": null,
      "outputs": [
        {
          "output_type": "stream",
          "text": [
            "CPU times: user 81.1 ms, sys: 4 µs, total: 81.1 ms\n",
            "Wall time: 78.5 ms\n"
          ],
          "name": "stdout"
        },
        {
          "output_type": "execute_result",
          "data": {
            "text/plain": [
              "'смотреть презентации'"
            ]
          },
          "metadata": {
            "tags": []
          },
          "execution_count": 219
        }
      ]
    },
    {
      "cell_type": "code",
      "metadata": {
        "id": "TEpC-gGgBB2s",
        "outputId": "84bce01f-1fc9-4a88-8b8a-72511dec3137"
      },
      "source": [
        "%%time\n",
        "searchRequest('скчать игаы нлайн')"
      ],
      "execution_count": null,
      "outputs": [
        {
          "output_type": "stream",
          "text": [
            "CPU times: user 167 ms, sys: 0 ns, total: 167 ms\n",
            "Wall time: 164 ms\n"
          ],
          "name": "stdout"
        },
        {
          "output_type": "execute_result",
          "data": {
            "text/plain": [
              "'скачать игры онлайн'"
            ]
          },
          "metadata": {
            "tags": []
          },
          "execution_count": 220
        }
      ]
    },
    {
      "cell_type": "code",
      "metadata": {
        "id": "9HgUcnMWBB2t",
        "outputId": "a3ef9c12-b398-4448-e963-3ded3847e3fa"
      },
      "source": [
        "%%time\n",
        "searchRequest('ку пить домашнийтелевизор')"
      ],
      "execution_count": null,
      "outputs": [
        {
          "output_type": "stream",
          "text": [
            "CPU times: user 135 ms, sys: 76 µs, total: 135 ms\n",
            "Wall time: 132 ms\n"
          ],
          "name": "stdout"
        },
        {
          "output_type": "execute_result",
          "data": {
            "text/plain": [
              "'купить домашний телевизор'"
            ]
          },
          "metadata": {
            "tags": []
          },
          "execution_count": 221
        }
      ]
    },
    {
      "cell_type": "code",
      "metadata": {
        "id": "CqimMmh9BB2t"
      },
      "source": [
        "\"\"\"\n",
        "Скрипты для сохранения моделей\n",
        "\"\"\"\n",
        "# STORAGE = SimpleStorage()\n",
        "# STORAGE.initFreqWords()\n",
        "# STORAGE.initCorpus()\n",
        "# STORAGE.initBigramsWords()\n",
        "\n",
        "# output = open(\"STORAGE.pkl\", \"wb\")\n",
        "# pickle.dump(STORAGE, output, 2)\n",
        "# output.close()\n",
        "\n",
        "\n",
        "# DEL_D, REPL_D, INS_D = optimumWalk()\n",
        "\n",
        "# output = open(\"DEL_D.pkl\", \"wb\")\n",
        "# pickle.dump(DEL_D, output, 2)\n",
        "# output.close()\n",
        "\n",
        "# output = open(\"REPL_D.pkl\", \"wb\")\n",
        "# pickle.dump(REPL_D, output, 2)\n",
        "# output.close()\n",
        "\n",
        "# output = open(\"INS_D.pkl\", \"wb\")\n",
        "# pickle.dump(INS_D, output, 2)\n",
        "# output.close()  \n",
        "\n",
        "\"\"\"\n",
        "Скрипты для загрузки моделей\n",
        "\"\"\"\n",
        "# My_Tree = Trie()\n",
        "# for i in STORAGE.getWords():\n",
        "#     My_Tree.insert(i)\n",
        "\n",
        "# output = open(\"My_Tree.pkl\", \"wb\")\n",
        "# pickle.dump(My_Tree, output, 2)\n",
        "# output.close()\n",
        "\n",
        "# input = open('My_Tree.pkl','rb')\n",
        "# My_Tree = pickle.load(input)\n",
        "# input.close()\n",
        "\n",
        "# #Глобальный словарь слов\n",
        "# input = open('STORAGE.pkl','rb')\n",
        "# STORAGE = pickle.load(input)\n",
        "# input.close()\n",
        "\n",
        "# input = open('DEL_D.pkl','rb')\n",
        "# DEL_D = pickle.load(input)\n",
        "# input.close()\n",
        "\n",
        "# input = open('REPL_D.pkl','rb')\n",
        "# REPL_D = pickle.load(input)\n",
        "# input.close()\n",
        "\n",
        "# input = open('INS_D.pkl','rb')\n",
        "# INS_D = pickle.load(input)\n",
        "# input.close()"
      ],
      "execution_count": null,
      "outputs": []
    }
  ]
}